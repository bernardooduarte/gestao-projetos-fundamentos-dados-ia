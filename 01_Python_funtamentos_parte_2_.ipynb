{
  "nbformat": 4,
  "nbformat_minor": 0,
  "metadata": {
    "colab": {
      "provenance": [],
      "include_colab_link": true
    },
    "kernelspec": {
      "name": "python3",
      "display_name": "Python 3"
    },
    "language_info": {
      "name": "python"
    }
  },
  "cells": [
    {
      "cell_type": "markdown",
      "metadata": {
        "id": "view-in-github",
        "colab_type": "text"
      },
      "source": [
        "<a href=\"https://colab.research.google.com/github/bernardooduarte/gestao-projetos-fundamentos-dados-ia/blob/main/01_Python_funtamentos_parte_2_.ipynb\" target=\"_parent\"><img src=\"https://colab.research.google.com/assets/colab-badge.svg\" alt=\"Open In Colab\"/></a>"
      ]
    },
    {
      "cell_type": "markdown",
      "source": [
        "# Python Fundamentos"
      ],
      "metadata": {
        "id": "di_LoQil-6oe"
      }
    },
    {
      "cell_type": "markdown",
      "source": [
        "## Operadores"
      ],
      "metadata": {
        "id": "x92zRT5m-_DJ"
      }
    },
    {
      "cell_type": "markdown",
      "source": [
        "Os operadores em Python são símbolos especiais que realizam operações matemáticas ou lógicas. Eles são usados para realizar cálculos, comparações e outras operações em valores e variáveis. Alguns exemplos de operadores em Python incluem:\n",
        "\n",
        "1. Operadores aritméticos: esses operadores são usados para realizar operações matemáticas básicas, como adição (+), subtração (-), multiplicação (\\*), divisão (/), módulo (%), exponenciação (**) e divisão inteira (//)\n"
      ],
      "metadata": {
        "id": "rBOxuiTJ_Z_8"
      }
    },
    {
      "cell_type": "code",
      "execution_count": null,
      "metadata": {
        "id": "u4ok5j6Y96yn",
        "colab": {
          "base_uri": "https://localhost:8080/"
        },
        "outputId": "e826889f-ae9f-4a79-8daa-015784eaf5d9"
      },
      "outputs": [
        {
          "output_type": "stream",
          "name": "stdout",
          "text": [
            "8\n",
            "2\n",
            "15\n",
            "1.6666666666666667\n",
            "\n",
            "\n",
            "2\n",
            "125\n",
            "1\n"
          ]
        }
      ],
      "source": [
        "x = 5\n",
        "y = 3\n",
        "print(x + y)\n",
        "print(x - y)\n",
        "print(x * y)\n",
        "print(x / y)\n",
        "print('\\n')\n",
        "print(x % y)\n",
        "print(x ** y)\n",
        "print(x // y)"
      ]
    },
    {
      "cell_type": "markdown",
      "source": [
        "2. Operadores de comparação: esses operadores são usados para comparar valores e retornar um valor booleano (verdadeiro ou falso). Eles incluem igualdade (==), desigualdade (!=), maior que (>), menor que (<), maior ou igual a (>=), menor ou igual a (<=)"
      ],
      "metadata": {
        "id": "0RJwH4nw_ua8"
      }
    },
    {
      "cell_type": "code",
      "source": [
        "x = 5\n",
        "y = 5\n",
        "print(x == y)\n",
        "print(x != y)\n",
        "print(x > y)\n",
        "print('\\n')\n",
        "print(x < y)\n",
        "print(x >= y)\n",
        "print(x <= y)"
      ],
      "metadata": {
        "id": "v9NJQ8a3_nKY",
        "colab": {
          "base_uri": "https://localhost:8080/"
        },
        "outputId": "564f0a69-b606-45a5-ba0f-b3cb40f28718"
      },
      "execution_count": null,
      "outputs": [
        {
          "output_type": "stream",
          "name": "stdout",
          "text": [
            "True\n",
            "False\n",
            "False\n",
            "\n",
            "\n",
            "False\n",
            "True\n",
            "True\n"
          ]
        }
      ]
    },
    {
      "cell_type": "markdown",
      "source": [
        "3. Operadores lógicos: esses operadores são usados para combinar expressões booleanas. Eles incluem \"e\" (and), \"ou\" (or) e \"não\" (not)"
      ],
      "metadata": {
        "id": "FqpA0Q7AAFDF"
      }
    },
    {
      "cell_type": "code",
      "source": [
        "x = True\n",
        "y = False\n",
        "print(x and y)\n",
        "print(x or y)\n",
        "print(not x)"
      ],
      "metadata": {
        "id": "K4zqJcYGAEgh",
        "colab": {
          "base_uri": "https://localhost:8080/"
        },
        "outputId": "b1ff443e-334b-4963-9c7c-24bfdfc70514"
      },
      "execution_count": null,
      "outputs": [
        {
          "output_type": "stream",
          "name": "stdout",
          "text": [
            "False\n",
            "True\n",
            "False\n"
          ]
        }
      ]
    },
    {
      "cell_type": "markdown",
      "source": [
        "4. Operadores de atribuição: esses operadores são usados para atribuir valores a variáveis. Eles incluem (=), (+=), (-=), (=), (/=), (%=), (//=)"
      ],
      "metadata": {
        "id": "8ryCzsF5ATHR"
      }
    },
    {
      "cell_type": "code",
      "source": [
        "y = 5\n",
        "x = y\n",
        "print('\\n', x)\n",
        "\n",
        "x = 5\n",
        "y = 3\n",
        "#x = x+y\n",
        "x += y\n",
        "print('\\n', x)\n",
        "\n",
        "x = 5\n",
        "y = 3\n",
        "#x = x-y\n",
        "x -= y\n",
        "print('\\n', x)\n",
        "\n",
        "x = 5\n",
        "y = 3\n",
        "x *= y\n",
        "print('\\n', x)\n",
        "\n",
        "x = 5\n",
        "y = 3\n",
        "x /= y\n",
        "print('\\n', x)\n",
        "\n",
        "x = 5\n",
        "y = 3\n",
        "x %= y\n",
        "print('\\n', x)\n",
        "\n",
        "x = 5\n",
        "y = 3\n",
        "x //= y\n",
        "print('\\n', x)"
      ],
      "metadata": {
        "id": "fq44mEyG_w58",
        "colab": {
          "base_uri": "https://localhost:8080/"
        },
        "outputId": "06adf0c1-9a44-4d2c-a649-d0e27bca9330"
      },
      "execution_count": null,
      "outputs": [
        {
          "output_type": "stream",
          "name": "stdout",
          "text": [
            "\n",
            " 5\n",
            "\n",
            " 8\n",
            "\n",
            " 2\n",
            "\n",
            " 15\n",
            "\n",
            " 1.6666666666666667\n",
            "\n",
            " 2\n",
            "\n",
            " 1\n"
          ]
        }
      ]
    },
    {
      "cell_type": "markdown",
      "source": [
        "5. Operadores de identidade: esses operadores são usados para comparar se duas variáveis são as mesmas (is) ou se elas são diferentes (is not)"
      ],
      "metadata": {
        "id": "dgYKeb9dBXRb"
      }
    },
    {
      "cell_type": "code",
      "source": [
        "x = 5\n",
        "y = 3\n",
        "z = 3\n",
        "print(x is y)\n",
        "print(z is y)\n",
        "print(x is not y)"
      ],
      "metadata": {
        "id": "9wLYlmfN_w3J",
        "colab": {
          "base_uri": "https://localhost:8080/"
        },
        "outputId": "ec2b4303-7200-45eb-a357-264a8eb6385e"
      },
      "execution_count": null,
      "outputs": [
        {
          "output_type": "stream",
          "name": "stdout",
          "text": [
            "False\n",
            "True\n",
            "True\n"
          ]
        }
      ]
    },
    {
      "cell_type": "markdown",
      "source": [
        "6. Operadores de membro/pertencimento: esses operadores verificam se um objeto está presente em uma coleção, como uma lista, tupla ou conjunto. Eles incluem \"in\" e \"not in\".\n"
      ],
      "metadata": {
        "id": "5cGa8pzOBpiq"
      }
    },
    {
      "cell_type": "code",
      "source": [
        "w = 'dois'\n",
        "x = 2\n",
        "y = [1, 2, 3, 4, 5]\n",
        "z = {1: 'um', 2:'dois', 3:'três'}\n",
        "print(x in y)\n",
        "print(x not in y)\n",
        "print(x in z)\n",
        "print(w in z)\n"
      ],
      "metadata": {
        "id": "pi9vq3j4_wqa",
        "colab": {
          "base_uri": "https://localhost:8080/"
        },
        "outputId": "edda37ab-1960-4841-cb63-7b2c6f655e1f"
      },
      "execution_count": null,
      "outputs": [
        {
          "output_type": "stream",
          "name": "stdout",
          "text": [
            "True\n",
            "False\n",
            "True\n",
            "False\n"
          ]
        }
      ]
    },
    {
      "cell_type": "markdown",
      "source": [
        "## Controladores de fluxo"
      ],
      "metadata": {
        "id": "XIW6RzQ_Cber"
      }
    },
    {
      "cell_type": "markdown",
      "source": [
        "Os controladores de fluxo em Python são estruturas de código que permitem controlar o fluxo de execução de um programa. Eles permitem que o código execute de forma diferente dependendo de certas condições. Alguns exemplos de controladores de fluxo comuns em Python incluem:\n",
        "1. Estrutura condicional if-elif-else: essa estrutura permite testar uma condição e executar diferentes blocos de código dependendo do resultado.\n",
        "2. Laços de repetição for e while: essas estruturas permitem executar um bloco de código várias vezes, dependendo de uma condição de parada.\n",
        "3. break e continue: essas palavras-chave permitem interromper ou continuar a execução de um laço de repetição de acordo com determinadas condições.\n",
        "4. try-except: essa estrutura permite tratar exceções (erros) que possam ocorrer durante a execução do código.\n",
        "\n"
      ],
      "metadata": {
        "id": "C_xvLgAZDqnG"
      }
    },
    {
      "cell_type": "markdown",
      "source": [
        "### if-else"
      ],
      "metadata": {
        "id": "WUek2_Z3PcEc"
      }
    },
    {
      "cell_type": "markdown",
      "source": [
        "A estrutura condicional em Python permite que você execute uma ação específica se uma determinada condição for verdadeira. A estrutura condicional mais comum é o \"if-else\" statement.\n",
        "A sintaxe básica de um \"if-else\" statement é a seguinte:\n",
        "\n",
        "if condition:\n",
        "\n",
        "     executa este bloco se a condição for verdadeira\n",
        "\n",
        "else:\n",
        "\n",
        "     executa este bloco se a condição for falsa\n"
      ],
      "metadata": {
        "id": "Jpyv-dFPD3Xl"
      }
    },
    {
      "cell_type": "code",
      "source": [
        "# Exemplo:\n",
        "x = 0\n",
        "\n",
        "if x > 0:\n",
        "    print(\"x é positivo\")\n",
        "else:\n",
        "    print(\"x é negativo\")\n",
        "\n",
        "# Aqui, a condição é \"x > 0\", então, se x for maior do que 0, a mensagem \"x é positivo\" será impressa.\n",
        "# Caso contrário, a mensagem \"x é negativo\" será impressa."
      ],
      "metadata": {
        "id": "2BBQrGMS_wnm",
        "colab": {
          "base_uri": "https://localhost:8080/"
        },
        "outputId": "81a60aff-cb74-43ad-a2bd-e14b3c76a928"
      },
      "execution_count": null,
      "outputs": [
        {
          "output_type": "stream",
          "name": "stdout",
          "text": [
            "x é negativo\n"
          ]
        }
      ]
    },
    {
      "cell_type": "markdown",
      "source": [
        "É possível usar várias condições aninhadas usando \"if-elif-else\" statement, onde o \"elif\" representa \"else if\", o que significa que ele só será executado se a condição anterior for falsa e essa for verdadeira."
      ],
      "metadata": {
        "id": "4OSrnUGrEU_n"
      }
    },
    {
      "cell_type": "code",
      "source": [
        "x = -1\n",
        "\n",
        "if x > 0:\n",
        "    print(\"x é positivo\")\n",
        "elif x == 0:\n",
        "    print(\"x é zero\")\n",
        "else:\n",
        "    print(\"x é negativo\")\n",
        "\n",
        "# Aqui, se x for positivo, a primeira condição será verdadeira e a mensagem \"x é positivo\" será impressa.\n",
        "# Se x for igual a 0, a segunda condição será verdadeira e a mensagem \"x é zero\" será impressa.\n",
        "# Caso contrário, a última condição será verdadeira e a mensagem \"x é negativo\" será impressa.\n"
      ],
      "metadata": {
        "id": "YUasV6PsELm_",
        "colab": {
          "base_uri": "https://localhost:8080/"
        },
        "outputId": "a06c5aaf-e840-47e3-bc02-303f0b5e077a"
      },
      "execution_count": null,
      "outputs": [
        {
          "output_type": "stream",
          "name": "stdout",
          "text": [
            "x é negativo\n"
          ]
        }
      ]
    },
    {
      "cell_type": "markdown",
      "source": [
        "Aqui estão alguns exemplos de uso não trivial de \"if-else\" em Python:"
      ],
      "metadata": {
        "id": "_F3sLqFlFZB-"
      }
    },
    {
      "cell_type": "markdown",
      "source": [
        "1. Verificando se uma palavra é um palíndromo:"
      ],
      "metadata": {
        "id": "m5yWznXQGtrs"
      }
    },
    {
      "cell_type": "code",
      "source": [
        "word = \"casa\"\n",
        "\n",
        "if word == word[::-1]:\n",
        "    print(\"A palavra é um palíndromo.\")\n",
        "else:\n",
        "    print(\"A palavra não é um palíndromo.\")"
      ],
      "metadata": {
        "id": "0vI5u2PNHOnl",
        "colab": {
          "base_uri": "https://localhost:8080/"
        },
        "outputId": "8be4266d-e79c-4595-95ee-99372f983176"
      },
      "execution_count": null,
      "outputs": [
        {
          "output_type": "stream",
          "name": "stdout",
          "text": [
            "A palavra não é um palíndromo.\n"
          ]
        }
      ]
    },
    {
      "cell_type": "markdown",
      "source": [
        "2. Verificando se uma data é válida:"
      ],
      "metadata": {
        "id": "68L86EK0IJ9x"
      }
    },
    {
      "cell_type": "code",
      "source": [
        "day = 31\n",
        "month = 5\n",
        "year = 2000\n",
        "\n",
        "if month in (1, 3, 5, 7, 8, 10, 12):\n",
        "    max_day = 31\n",
        "elif month == 2:\n",
        "    if year % 4 == 0 and (year % 100 != 0 or year % 400 == 0):\n",
        "        max_day = 29\n",
        "    else:\n",
        "        max_day = 28\n",
        "else:\n",
        "    max_day = 30\n",
        "\n",
        "if 0 < day <= max_day:\n",
        "    print(\"Data válida.\")\n",
        "else:\n",
        "    print(\"Data inválida.\")"
      ],
      "metadata": {
        "id": "xfsEfIDoHOk1",
        "colab": {
          "base_uri": "https://localhost:8080/"
        },
        "outputId": "f9bd4fc7-0b6e-4887-9339-7e56a751e794"
      },
      "execution_count": null,
      "outputs": [
        {
          "output_type": "stream",
          "name": "stdout",
          "text": [
            "Data válida.\n"
          ]
        }
      ]
    },
    {
      "cell_type": "markdown",
      "source": [
        "#### A - Exercícios if-else"
      ],
      "metadata": {
        "id": "DbyrGwPUJLdc"
      }
    },
    {
      "cell_type": "markdown",
      "source": [
        "1. Crie um programa que peça ao usuário para digitar sua idade e diga se ele é maior de idade ou não."
      ],
      "metadata": {
        "id": "vUBwiWteJJs3"
      }
    },
    {
      "cell_type": "code",
      "source": [
        "#----------------------------------------------------\n",
        "# Espaço solução\n",
        "\n",
        "\n",
        "\n",
        "#----------------------------------------------------"
      ],
      "metadata": {
        "id": "AzGVUOPYHOiM"
      },
      "execution_count": null,
      "outputs": []
    },
    {
      "cell_type": "markdown",
      "source": [
        "2. Crie um programa que peça ao usuário para digitar um número e verifique se o número é par ou ímpar."
      ],
      "metadata": {
        "id": "8WC83FzmJ46n"
      }
    },
    {
      "cell_type": "code",
      "source": [
        "#----------------------------------------------------\n",
        "# Espaço solução\n",
        "\n",
        "\n",
        "\n",
        "#----------------------------------------------------"
      ],
      "metadata": {
        "id": "7yxK0TuNJ4Xh"
      },
      "execution_count": null,
      "outputs": []
    },
    {
      "cell_type": "markdown",
      "source": [
        "3. Crie um programa que peça ao usuário para digitar um número e verifique se um número é positivo, negativo ou zero."
      ],
      "metadata": {
        "id": "BbDLAU-hKS8B"
      }
    },
    {
      "cell_type": "code",
      "source": [
        "#----------------------------------------------------\n",
        "# Espaço solução\n",
        "\n",
        "\n",
        "\n",
        "#----------------------------------------------------"
      ],
      "metadata": {
        "id": "H-mrTDeNJ4Up"
      },
      "execution_count": null,
      "outputs": []
    },
    {
      "cell_type": "markdown",
      "source": [
        "4. Crie um programa que verifique se uma letra digitada é uma vogal ou consoante."
      ],
      "metadata": {
        "id": "tN1-UNFoKuMH"
      }
    },
    {
      "cell_type": "code",
      "source": [
        "#----------------------------------------------------\n",
        "# Espaço solução\n",
        "\n",
        "\n",
        "\n",
        "#----------------------------------------------------"
      ],
      "metadata": {
        "id": "eFWBvmfLJ4R0"
      },
      "execution_count": null,
      "outputs": []
    },
    {
      "cell_type": "markdown",
      "source": [
        "### for loops e while loops"
      ],
      "metadata": {
        "id": "SV-S0EFBPohe"
      }
    },
    {
      "cell_type": "markdown",
      "source": [
        "\"for\" loops e \"while\" loops são estruturas de controle de fluxo em Python que permitem a execução de um conjunto de instruções repetidamente enquanto uma determinada condição é verdadeira.\n",
        "\n",
        "\n",
        "A estrutura básica de um \"for\" loop é a seguinte:\n",
        "\n",
        "    for variable in sequence:\n",
        "        Instruções a serem executadas\n",
        "\n",
        "Onde \"sequence\" é uma sequência de valores, como uma lista, tupla ou intervalo, e \"variable\" é uma variável que assume cada valor na sequência. Por exemplo, o seguinte código imprime todos os números de 1 a 10:\n"
      ],
      "metadata": {
        "id": "tD1hzTcLQChZ"
      }
    },
    {
      "cell_type": "code",
      "source": [
        "for i in range(1, 11):\n",
        "    print(i)"
      ],
      "metadata": {
        "id": "xHPXSlizJ4Pe",
        "colab": {
          "base_uri": "https://localhost:8080/"
        },
        "outputId": "9a1fae06-d0ac-451d-c8de-447985b1f9a6"
      },
      "execution_count": null,
      "outputs": [
        {
          "output_type": "stream",
          "name": "stdout",
          "text": [
            "1\n",
            "2\n",
            "3\n",
            "4\n",
            "5\n",
            "6\n",
            "7\n",
            "8\n",
            "9\n",
            "10\n"
          ]
        }
      ]
    },
    {
      "cell_type": "markdown",
      "source": [
        "A estrutura básica de um \"while\" loop é a seguinte:\n",
        "\n",
        "    while condition:\n",
        "        Instruções a serem executadas\n",
        "\n",
        "Onde \"condition\" é uma expressão booleana que é avaliada antes de cada iteração. Enquanto a condição for verdadeira, as instruções dentro do loop serão executadas. Por exemplo, o seguinte código imprime os números de 1 a 10:\n"
      ],
      "metadata": {
        "id": "8_t9PGwvQVzM"
      }
    },
    {
      "cell_type": "code",
      "source": [
        "i = 1\n",
        "while i <= 10:\n",
        "    print(i)\n",
        "    i += 3\n",
        "    #i = i + 1"
      ],
      "metadata": {
        "id": "w2HCGMicHOfA",
        "colab": {
          "base_uri": "https://localhost:8080/"
        },
        "outputId": "238fd356-6b39-47b9-9e07-3c78b3b67489"
      },
      "execution_count": null,
      "outputs": [
        {
          "output_type": "stream",
          "name": "stdout",
          "text": [
            "1\n",
            "4\n",
            "7\n",
            "10\n"
          ]
        }
      ]
    },
    {
      "cell_type": "markdown",
      "source": [
        "Aqui está um exemplo simples de um loop \"while\" que lê números do teclado até que o usuário digite \"sair\":"
      ],
      "metadata": {
        "id": "fuQUtcEIh1Ji"
      }
    },
    {
      "cell_type": "code",
      "source": [
        "while True:\n",
        "  n = input(\"Digite um número ou 'sair' para sair: \")\n",
        "  if n == 'sair':\n",
        "    break\n",
        "  print(\"Você digitou:\", n)"
      ],
      "metadata": {
        "id": "lKaXpNHJh2HC",
        "colab": {
          "base_uri": "https://localhost:8080/"
        },
        "outputId": "aa921532-89cc-474e-f0b3-bc6f30829c9d"
      },
      "execution_count": null,
      "outputs": [
        {
          "name": "stdout",
          "output_type": "stream",
          "text": [
            "Digite um número ou 'sair' para sair: 4\n",
            "Você digitou: 4\n",
            "Digite um número ou 'sair' para sair: 4\n",
            "Você digitou: 4\n",
            "Digite um número ou 'sair' para sair: 6\n",
            "Você digitou: 6\n",
            "Digite um número ou 'sair' para sair: 7\n",
            "Você digitou: 7\n",
            "Digite um número ou 'sair' para sair: 8\n",
            "Você digitou: 8\n",
            "Digite um número ou 'sair' para sair: sair\n"
          ]
        }
      ]
    },
    {
      "cell_type": "markdown",
      "source": [
        "Esse exemplo mostra como usar break, para interromper o loop quando o usuário digitar \"sair\", caso contrario o loop continuaria pedindo ao usuário para digitar mais números.\n"
      ],
      "metadata": {
        "id": "RX3apAn8iJR7"
      }
    },
    {
      "cell_type": "markdown",
      "source": [
        "É importante notar que tanto \"for\" loops quanto \"while\" loops podem ser interrompidos usando a instrução \"break\" quando uma determinada condição é atendida, e também podem ser pulados para a próxima iteração usando a instrução \"continue\". Também é importante tomar cuidado ao utilizar loops infinitos, pois eles podem causar travamentos no programa se a condição de saída não for definida corretamente."
      ],
      "metadata": {
        "id": "rXbgeCqvQuqb"
      }
    },
    {
      "cell_type": "markdown",
      "source": [
        "#### Exercícios loops"
      ],
      "metadata": {
        "id": "LiSZFsQGSp9P"
      }
    },
    {
      "cell_type": "markdown",
      "source": [
        "1. Escreva um programa que imprima todos os elementos de uma lista."
      ],
      "metadata": {
        "id": "w5J-uBioStZn"
      }
    },
    {
      "cell_type": "code",
      "source": [
        "#----------------------------------------------------\n",
        "# Espaço solução\n",
        "\n",
        "\n",
        "\n",
        "\n",
        "#----------------------------------------------------"
      ],
      "metadata": {
        "id": "OifPMkGFHOcW"
      },
      "execution_count": null,
      "outputs": []
    },
    {
      "cell_type": "markdown",
      "source": [
        "2. Escreva um programa que calcule a média de uma lista de números."
      ],
      "metadata": {
        "id": "WX1oT_QBgIOo"
      }
    },
    {
      "cell_type": "code",
      "source": [
        "# lista = [1, 2, 3, 4, 5]\n",
        "#----------------------------------------------------\n",
        "# Espaço solução\n",
        "\n",
        "\n",
        "\n",
        "#----------------------------------------------------"
      ],
      "metadata": {
        "id": "smWxxf4sHOZ7"
      },
      "execution_count": null,
      "outputs": []
    },
    {
      "cell_type": "markdown",
      "source": [
        "3. Escreva um programa que conte quantas vezes a letra 'a' aparece em uma string."
      ],
      "metadata": {
        "id": "cXpOeIBcgOqw"
      }
    },
    {
      "cell_type": "code",
      "source": [
        "# string = \"Colaboração - Excelencia com humildade - Desistir não é uma opção\"\n",
        "#----------------------------------------------------\n",
        "# Espaço solução\n",
        "\n",
        "\n",
        "\n",
        "#----------------------------------------------------"
      ],
      "metadata": {
        "id": "5XKLIPkKHOW9"
      },
      "execution_count": null,
      "outputs": []
    },
    {
      "cell_type": "markdown",
      "source": [
        "4. Escreva um programa que encontre todos os números primos entre 1 e 100."
      ],
      "metadata": {
        "id": "pY6FI5eQg_Te"
      }
    },
    {
      "cell_type": "code",
      "source": [
        "#----------------------------------------------------\n",
        "# Espaço solução\n",
        "\n",
        "\n",
        "\n",
        "#----------------------------------------------------"
      ],
      "metadata": {
        "id": "IPPZc9bsHOUo"
      },
      "execution_count": null,
      "outputs": []
    },
    {
      "cell_type": "markdown",
      "source": [
        "5. Escreva um programa que use um loop \"while\" para ler números do teclado e calcular a soma de todos os números lidos. O programa deve parar de ler números quando o usuário digitar \"sair\".\n"
      ],
      "metadata": {
        "id": "j0PpWxlriSeq"
      }
    },
    {
      "cell_type": "code",
      "source": [
        "#----------------------------------------------------\n",
        "# Espaço solução\n",
        "\n",
        "\n",
        "\n",
        "#----------------------------------------------------"
      ],
      "metadata": {
        "id": "DVoX0jk-HOR0"
      },
      "execution_count": null,
      "outputs": []
    },
    {
      "cell_type": "markdown",
      "source": [
        "6. Escreva um programa que use um loop \"while\" para calcular a sequência de Fibonacci até um número específico de termos. O programa deve pedir ao usuário para digitar o número de termos desejado.\n"
      ],
      "metadata": {
        "id": "r5Uk__miiweO"
      }
    },
    {
      "cell_type": "code",
      "source": [
        "#----------------------------------------------------\n",
        "# Espaço solução\n",
        "\n",
        "\n",
        "\n",
        "#----------------------------------------------------"
      ],
      "metadata": {
        "id": "xFkvj-71HOO0"
      },
      "execution_count": null,
      "outputs": []
    },
    {
      "cell_type": "markdown",
      "source": [
        "7. Crie um programa que calcule a média de várias disciplinas de um aluno e informe se ele foi aprovado, reprovado ou está de recuperação. Considere que a média para aprovação é 7, para recuperação é 5 e para reprovação é menor que 5. O programa deve pedir para o usuário digitar a nota das disciplinas."
      ],
      "metadata": {
        "id": "IrG12xxpj3Q0"
      }
    },
    {
      "cell_type": "code",
      "source": [
        "disciplinas =['matematica', 'fisica', 'biologia', 'história', 'português']\n",
        "#----------------------------------------------------\n",
        "# Espaço solução\n",
        "\n",
        "\n",
        "\n",
        "#----------------------------------------------------"
      ],
      "metadata": {
        "id": "s70Qv1XIHOMl"
      },
      "execution_count": null,
      "outputs": []
    },
    {
      "cell_type": "markdown",
      "source": [
        "8. Crie um programa de jogo de adivinhação onde o computador \"pensa\" em um número de 1 a 100 e o usuário tem que adivinhar qual é. O programa deve informar se o número escolhido pelo usuário é maior ou menor que o número escolhido pelo computador e mostrar quantas tentativas foram necessárias para acertar."
      ],
      "metadata": {
        "id": "3trWw3vUktm9"
      }
    },
    {
      "cell_type": "code",
      "source": [
        "#----------------------------------------------------\n",
        "# Espaço solução\n",
        "\n",
        "\n",
        "\n",
        "#----------------------------------------------------"
      ],
      "metadata": {
        "id": "6nNP3PxQHOJS"
      },
      "execution_count": null,
      "outputs": []
    },
    {
      "cell_type": "markdown",
      "source": [
        "## Funções"
      ],
      "metadata": {
        "id": "DAthPvlRwUuq"
      }
    },
    {
      "cell_type": "markdown",
      "source": [
        "Em Python, as funções são conjuntos de instruções que realizam uma tarefa específica e podem ser chamadas pelo nome em qualquer parte do programa. As funções são úteis para organizar o código e torná-lo mais legível e reutilizável. Elas também podem aceitar entradas (argumentos) e retornar saídas.\n"
      ],
      "metadata": {
        "id": "8_GcmgiKwZ0o"
      }
    },
    {
      "cell_type": "markdown",
      "source": [
        "A sintaxe para criar uma função é a seguinte:\n",
        "\n",
        "    def nome_da_funcao(argumentos):\n",
        "      instruções\n",
        "      return valor\n",
        "\n",
        "Por exemplo, aqui está uma função simples que calcula o quadrado de um número:\n"
      ],
      "metadata": {
        "id": "8QZXcrVmwgnk"
      }
    },
    {
      "cell_type": "code",
      "source": [
        "def quadrado(x):\n",
        "\treturn x * x\n",
        "\n",
        "# Usando a função\n",
        "print(quadrado(5))"
      ],
      "metadata": {
        "id": "w1JAoNKPlfoW",
        "outputId": "67dae51c-cd19-4743-c43f-42ac091c8be5",
        "colab": {
          "base_uri": "https://localhost:8080/"
        }
      },
      "execution_count": null,
      "outputs": [
        {
          "output_type": "stream",
          "name": "stdout",
          "text": [
            "25\n"
          ]
        }
      ]
    },
    {
      "cell_type": "code",
      "source": [
        "quadrado(4432123)"
      ],
      "metadata": {
        "colab": {
          "base_uri": "https://localhost:8080/"
        },
        "id": "rMglynOiNWxS",
        "outputId": "5a9075e9-ec0b-4b01-c33c-21aaedf64d75"
      },
      "execution_count": null,
      "outputs": [
        {
          "output_type": "execute_result",
          "data": {
            "text/plain": [
              "19643714287129"
            ]
          },
          "metadata": {},
          "execution_count": 27
        }
      ]
    },
    {
      "cell_type": "markdown",
      "source": [
        "As funções também podem ter argumentos opcionais, que possuem valores padrão. Se o usuário não especificar um valor para esses argumentos, o valor padrão será usado."
      ],
      "metadata": {
        "id": "-XeG49TXw6cU"
      }
    },
    {
      "cell_type": "code",
      "source": [
        "def saudacao(nome, saudacao='Olá'):\n",
        "  print(saudacao, nome)\n",
        "\n",
        "saudacao('Carlos')\n",
        "saudacao('Carlos', 'Bom dia')"
      ],
      "metadata": {
        "id": "9Kh6Ril0lflQ",
        "outputId": "2c103b67-0ad6-4902-c645-beb4b649fe9e",
        "colab": {
          "base_uri": "https://localhost:8080/"
        }
      },
      "execution_count": null,
      "outputs": [
        {
          "output_type": "stream",
          "name": "stdout",
          "text": [
            "Olá Carlos\n",
            "Bom dia Carlos\n"
          ]
        }
      ]
    },
    {
      "cell_type": "markdown",
      "source": [
        "Além disso, funções também podem retornar mais de um valor utilizando tupla."
      ],
      "metadata": {
        "id": "KHfCuJaBxMCd"
      }
    },
    {
      "cell_type": "code",
      "source": [
        "def divisao(a, b):\n",
        "  return a/b, a%b\n",
        "\n",
        "resultado, resto = divisao(7,3)\n",
        "print(type(divisao(7,3)))\n",
        "print(resultado, resto)"
      ],
      "metadata": {
        "id": "javOO_qwlffb",
        "outputId": "4a55e335-f0cb-40b1-a78d-aa6e43db32e2",
        "colab": {
          "base_uri": "https://localhost:8080/"
        }
      },
      "execution_count": null,
      "outputs": [
        {
          "output_type": "stream",
          "name": "stdout",
          "text": [
            "<class 'tuple'>\n",
            "2.3333333333333335 1\n"
          ]
        }
      ]
    },
    {
      "cell_type": "markdown",
      "source": [
        "A busca binária é um eficiente algoritmo para encontrar um item em uma lista ordenada de itens. Ela funciona dividindo repetidamente pela metade a porção da lista que deve conter o item, até reduzir as localizações possíveis a apenas uma*."
      ],
      "metadata": {
        "id": "mRftF8cVyuWb"
      }
    },
    {
      "cell_type": "markdown",
      "source": [
        "EXTRA: Função de busca binária:"
      ],
      "metadata": {
        "id": "uhuM5j_VzyAq"
      }
    },
    {
      "cell_type": "code",
      "source": [
        "# Função de busca binária:\n",
        "\n",
        "def busca_binaria(lista, item):\n",
        "    baixo = 0\n",
        "    alto = len(lista) - 1\n",
        "    encontrado = False\n",
        "    while baixo <= alto and not encontrado:\n",
        "        meio = (baixo + alto) // 2\n",
        "        if lista[meio] == item:\n",
        "            encontrado = True\n",
        "        else:\n",
        "            if item < lista[meio]:\n",
        "                alto = meio - 1\n",
        "            else:\n",
        "                baixo = meio + 1\n",
        "    return encontrado\n",
        "\n",
        "numeros = [1,3,4,6,7,8,10,12,14,16,18]\n",
        "print(busca_binaria(numeros, 7))\n",
        "print(busca_binaria(numeros, 2))"
      ],
      "metadata": {
        "id": "oiOTPEqqHOGX",
        "outputId": "3711ef59-6cb9-42dd-c679-b7d5d10ccc95",
        "colab": {
          "base_uri": "https://localhost:8080/"
        }
      },
      "execution_count": null,
      "outputs": [
        {
          "output_type": "stream",
          "name": "stdout",
          "text": [
            "True\n",
            "False\n"
          ]
        }
      ]
    },
    {
      "cell_type": "markdown",
      "source": [
        "EXTRA: Função de ordenação:"
      ],
      "metadata": {
        "id": "-8VW26gAzt_J"
      }
    },
    {
      "cell_type": "markdown",
      "source": [
        "O bubble sort, ou ordenação por flutuação (literalmente \"por bolha\"), é um algoritmo de ordenação dos mais simples. A ideia é percorrer o vetor diversas vezes, e a cada passagem fazer flutuar para o topo o maior elemento da sequência"
      ],
      "metadata": {
        "id": "AneMbqyTz4Sq"
      }
    },
    {
      "cell_type": "code",
      "source": [
        "def bubble_sort(lista):\n",
        "  n = len(lista)\n",
        "  for i in range(n):\n",
        "    for j in range(0, n-i-1):\n",
        "      if lista[j] > lista[j+1]:\n",
        "        lista[j], lista[j+1] = lista[j+1], lista[j]\n",
        "  return lista\n",
        "\n",
        "numeros = [3,4,2,100, 7,1,9,6,8,5,10,1000]\n",
        "print(bubble_sort(numeros))\n",
        "\n",
        "# * Fonte e Leitura complementar: https://pt.wikipedia.org/wiki/Bubble_sort"
      ],
      "metadata": {
        "id": "Y17UDlgGzS4n",
        "outputId": "063c4cde-7f6b-454d-f371-117a1951eb6e",
        "colab": {
          "base_uri": "https://localhost:8080/"
        }
      },
      "execution_count": null,
      "outputs": [
        {
          "output_type": "stream",
          "name": "stdout",
          "text": [
            "[1, 2, 3, 4, 5, 6, 7, 8, 9, 10, 100, 1000]\n"
          ]
        }
      ]
    },
    {
      "cell_type": "markdown",
      "source": [
        "EXTRA: Funções recursivas:\n",
        "\n",
        "Uma função é dita recursiva quando dentro dela é feita uma ou mais chamadas a ela mesma.\n",
        "\n",
        "A ideia é dividir um problema original um subproblemas menores de mesma natureza (divisão) e depois combinar as soluções obtidas para gerar a solução do problema original de tamanho maior (conquista). Os subproblemas são resolvidos recursivamente do mesmo modo em função de instâncias menores, até se tornarem problemas triviais que são resolvidos de forma direta, interrompendo a recursão."
      ],
      "metadata": {
        "id": "Kuz1iBRD065k"
      }
    },
    {
      "cell_type": "code",
      "source": [
        "def fatorial(n):\n",
        "  if n == 1:\n",
        "    return 1\n",
        "  else:\n",
        "    return n * fatorial(n-1)\n",
        "\n",
        "print(fatorial(5))"
      ],
      "metadata": {
        "id": "WapuyLuezS2U",
        "outputId": "3f1cd02b-0083-4df2-d3b6-acf34f8e3945",
        "colab": {
          "base_uri": "https://localhost:8080/"
        }
      },
      "execution_count": null,
      "outputs": [
        {
          "output_type": "stream",
          "name": "stdout",
          "text": [
            "120\n"
          ]
        }
      ]
    },
    {
      "cell_type": "markdown",
      "source": [
        "### Exercícios Funções"
      ],
      "metadata": {
        "id": "8i4SOFXxkCuU"
      }
    },
    {
      "cell_type": "markdown",
      "source": [
        "1. Escreva uma função que dado um número inteiro, gere uma lista de todos os números primos até esse número. Verifique a função para o número 20."
      ],
      "metadata": {
        "id": "b5HMReK3kMKI"
      }
    },
    {
      "cell_type": "code",
      "source": [
        "#----------------------------------------------------\n",
        "# Espaço solução\n",
        "\n",
        "\n",
        "\n",
        "#----------------------------------------------------"
      ],
      "metadata": {
        "id": "lloESRQpzS0R"
      },
      "execution_count": null,
      "outputs": []
    },
    {
      "cell_type": "markdown",
      "source": [
        "2. Escreva uma função que dado uma lista de números inteiros, retorne uma lista com todos os números pares e ímpares separadamente. Teste com a sequinte lista."
      ],
      "metadata": {
        "id": "XiOVh7YZk4Z0"
      }
    },
    {
      "cell_type": "code",
      "source": [
        "#lista = [1,2,3,4,5,6,7,8,9,10]\n",
        "#----------------------------------------------------\n",
        "# Espaço solução\n",
        "\n",
        "\n",
        "\n",
        "\n",
        "#----------------------------------------------------"
      ],
      "metadata": {
        "id": "VcDlRQVKzSxK"
      },
      "execution_count": null,
      "outputs": []
    },
    {
      "cell_type": "markdown",
      "source": [
        "3. Escreva uma função que dado uma string, retorne uma nova string com as letras em ordem alfabética.\n"
      ],
      "metadata": {
        "id": "oCyUa5Ualqfr"
      }
    },
    {
      "cell_type": "code",
      "source": [
        "#----------------------------------------------------\n",
        "# Espaço solução\n",
        "\n",
        "\n",
        "\n",
        "#----------------------------------------------------"
      ],
      "metadata": {
        "id": "FewXm2uUzSt4"
      },
      "execution_count": null,
      "outputs": []
    },
    {
      "cell_type": "markdown",
      "source": [
        "4. Escreva uma função que dada uma lista de strings, retorne verdadeiro se todas as palavras são palíndromos e falso caso contrário. Teste com a seguinte lista:\n"
      ],
      "metadata": {
        "id": "O8w3wGYdl-P5"
      }
    },
    {
      "cell_type": "code",
      "source": [
        "# lista = [\"bob\",\"ana\",\"civic\"]\n",
        "#----------------------------------------------------\n",
        "# Espaço solução\n",
        "\n",
        "\n",
        "\n",
        "\n",
        "\n",
        "#----------------------------------------------------"
      ],
      "metadata": {
        "id": "8jULfwbPzSrn"
      },
      "execution_count": null,
      "outputs": []
    },
    {
      "cell_type": "markdown",
      "source": [
        "## Módulos e pacotes"
      ],
      "metadata": {
        "id": "tA5NRymkNpL5"
      }
    },
    {
      "cell_type": "markdown",
      "source": [
        "Ao sair e entrar de novo no interpretador Python, as definições de funções e variáveis são perdidas. Portanto, se quiser escrever um programa maior, será mais eficiente usar um editor de texto para preparar as entradas para o interpretador, e executá-lo usando o arquivo como entrada. Isso é conhecido como criar um script. Se o programa se torna ainda maior, é uma boa prática dividi-lo em arquivos menores, para facilitar a manutenção. Também é preferível usar um arquivo separado para uma função que você escreveria em vários programas diferentes, para não copiar a definição de função em cada um deles.\n",
        "\n",
        "Para permitir isso, Python tem uma maneira de colocar as definições em um arquivo e então usá-las em um script ou em uma execução interativa do interpretador. Tal arquivo é chamado de módulo; definições de um módulo podem ser importadas para outros módulos, ou para o módulo principal (a coleção de variáveis a que você tem acesso num script executado como um programa e no modo calculadora).\n",
        "\n",
        "Um módulo é um arquivo contendo definições e instruções Python.\n",
        "\n",
        "fonte e referencia: https://docs.python.org/pt-br/3/tutorial/modules.html"
      ],
      "metadata": {
        "id": "NQqRpQc3NvLg"
      }
    },
    {
      "cell_type": "markdown",
      "source": [
        "Os pacotes (bibliotecas) são uma maneira de estruturar o “espaço de nomes” dos módulos Python, usando “nomes de módulo com pontos”. Por exemplo, o nome do módulo A.B designa um submódulo chamado B, em um pacote chamado A. Assim como o uso de módulos evita que os autores de módulos diferentes tenham que se preocupar com nomes de variáveis globais, o uso de nomes de módulos com pontos evita que os autores de pacotes com muitos módulos, como NumPy ou Pillow, tenham que se preocupar com os nomes dos módulos uns dos outros.\n",
        "\n",
        "Existem muitos módulos pré-construídos disponíveis para usar em Python, alguns exemplos incluem:\n",
        "\n",
        "\n",
        "- math: Contém funções matemáticas como raiz quadrada, seno, cosseno, etc.\n",
        "- random: Contém funções para geração de números aleatórios.\n",
        "- datetime: Contém classes para trabalhar com datas e horas.\n",
        "- os: Contém funções para interagir com o sistema operacional, como criar, renomear ou apagar arquivos e pastas.\n",
        "\n",
        "Para usar esses módulos, você precisa importá-los primeiro usando a declaração import. Por exemplo, para usar a função sqrt do módulo math, você pode fazer:\n",
        "\n",
        "    import math\n",
        "    print(math.sqrt(16))\n",
        "\n",
        "Este código irá imprimir \"4.0\", que é a raiz quadrada de 16.\n",
        "\n",
        "Alguns exemplos de pacotes em Python incluem:\n",
        "\n",
        "- [NumPy](https://numpy.org/doc/stable/): um pacote para computação científica com suporte para arrays e matrizes multidimensionais\n",
        "- [Pandas](https://pandas.pydata.org/docs/): um pacote para análise de dados, com suporte para dataframes e operações avançadas de manipulação de dados\n",
        "- [Scikit-learn](https://scikit-learn.org/0.21/documentation.html): um pacote para aprendizado de máquina, com suporte para algoritmos de classificação, regressão e agrupamento\n",
        "- [Matplotlib](https://matplotlib.org/stable/gallery/index.html): um pacote para visualização de dados, com suporte para gráficos 2D e 3D\n",
        "- [TensorFlow](https://www.tensorflow.org/?hl=pt-br): um pacote para inteligência artificial e aprendizado de máquina, desenvolvido pelo Google\n",
        "- [Pygame](https://www.pygame.org/docs/): um pacote para desenvolvimento de jogos em 2D.\n",
        "- [Flask](https://flask.palletsprojects.com/en/2.2.x/): um pacote para desenvolvimento web em python.\n",
        "- [BeautifulSoup](https://www.crummy.com/software/BeautifulSoup/bs4/doc/): um pacote para manipulação de HTML e XML.\n",
        "- [NLTK](https://www.nltk.org/): pacote para processamento de linguagem natural.\n",
        "- [Scrapy](https://docs.scrapy.org/en/latest/): um pacote para coleta de dados na web."
      ],
      "metadata": {
        "id": "jBLyV6A5NzsC"
      }
    }
  ]
}