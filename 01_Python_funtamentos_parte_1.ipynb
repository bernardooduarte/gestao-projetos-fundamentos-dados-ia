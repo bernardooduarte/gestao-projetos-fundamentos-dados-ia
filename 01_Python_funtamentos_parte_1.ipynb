{
  "nbformat": 4,
  "nbformat_minor": 0,
  "metadata": {
    "colab": {
      "provenance": [],
      "include_colab_link": true
    },
    "kernelspec": {
      "name": "python3",
      "display_name": "Python 3"
    },
    "language_info": {
      "name": "python"
    }
  },
  "cells": [
    {
      "cell_type": "markdown",
      "metadata": {
        "id": "view-in-github",
        "colab_type": "text"
      },
      "source": [
        "<a href=\"https://colab.research.google.com/github/bernardooduarte/gestao-projetos-fundamentos-dados-ia/blob/main/01_Python_funtamentos_parte_1.ipynb\" target=\"_parent\"><img src=\"https://colab.research.google.com/assets/colab-badge.svg\" alt=\"Open In Colab\"/></a>"
      ]
    },
    {
      "cell_type": "markdown",
      "source": [
        "# Python Fundamentos"
      ],
      "metadata": {
        "id": "SbsLmCGLdumX"
      }
    },
    {
      "cell_type": "markdown",
      "source": [
        "Basicamente, essa parte consistirá do seguintes itens:\n",
        "\n",
        "- Variáveis: aprenda como declarar e atribuir valores às variáveis em Python.\n",
        "- Tipos de dados: Python possui vários tipos de dados básicos, como inteiros, números de ponto flutuante, strings, listas e dicionários.\n",
        "- Operadores: aprenda sobre os diferentes operadores disponíveis em Python, incluindo aritméticos, de comparação e lógicos.\n",
        "- Estruturas de controle de fluxo: aprenda sobre as estruturas de controle de fluxo em Python, como if, elif e else, for e while loops.\n",
        "- Funções: aprenda como definir e chamar funções em Python.\n",
        "- Módulos e pacotes: aprenda como importar e usar módulos e pacotes pré-construídos em Python.\n",
        "- Trabalhando com arquivos: aprenda como ler e escrever arquivos em Python.\n",
        "- OOP (Programação Orientada a Objetos): aprenda como criar e trabalhar com classes e objetos em Python.\n",
        "- Biblioteca padrão: Conheça as funcionalidades prontas e ferramentas que o Python oferece como padrão, como por exemplo, math, string, datetime, entre outras.\n"
      ],
      "metadata": {
        "id": "ml_4J41ueVTB"
      }
    },
    {
      "cell_type": "code",
      "source": [
        "1+1"
      ],
      "metadata": {
        "colab": {
          "base_uri": "https://localhost:8080/"
        },
        "id": "Frjjmn6EDq9c",
        "outputId": "c6c861fe-2a53-43b5-9dc1-9eb99da96572"
      },
      "execution_count": null,
      "outputs": [
        {
          "output_type": "execute_result",
          "data": {
            "text/plain": [
              "2"
            ]
          },
          "metadata": {},
          "execution_count": 1
        }
      ]
    },
    {
      "cell_type": "markdown",
      "source": [
        "## Variáveis"
      ],
      "metadata": {
        "id": "Ua1xriDxXytd"
      }
    },
    {
      "cell_type": "markdown",
      "source": [
        "Variáveis são espaços de memória reservados para armazenar valores. Em Python, as variáveis são criadas no momento em que são atribuídos valores a elas. Elas podem ser de diferentes tipos, como inteiros, números de ponto flutuante, strings, listas e dicionários. As variáveis são usadas para armazenar e acessar dados em seus programas.\n",
        "\n",
        "Exemplo:\n",
        "\n",
        "    x = 5\n",
        "    y = \"Hello\"\n",
        "    z = [1, 2, 3]"
      ],
      "metadata": {
        "id": "bFWOWLhFX4nV"
      }
    },
    {
      "cell_type": "markdown",
      "source": [
        "Neste exemplo, x é uma variável inteira, y é uma variável string e z é uma variável lista.\n",
        "É importante notar que em Python não é necessário declarar o tipo de uma variável, o tipo é inferido pelo valor atribuído. Além disso, ao contrário de outras linguagens, em Python não é necessário declarar uma variável antes de atribuir um valor a ela."
      ],
      "metadata": {
        "id": "AvadJe4LYEk-"
      }
    },
    {
      "cell_type": "markdown",
      "source": [
        "### Inteiros"
      ],
      "metadata": {
        "id": "xXjIQkLMYK9-"
      }
    },
    {
      "cell_type": "markdown",
      "source": [
        "Os inteiros em Python são usados para armazenar números inteiros. Eles podem ser criados usando valores numéricos sem decimais.\n",
        "Exemplo:\n"
      ],
      "metadata": {
        "id": "DoXiernpYd6t"
      }
    },
    {
      "cell_type": "code",
      "source": [
        "x = 5.1\n",
        "print(\"O tipo da variável x é: \", type(x))\n",
        "\n",
        "y = -10\n",
        "print(\"O tipo da variável y é: \", type(y))"
      ],
      "metadata": {
        "id": "neBfTWi9Y5hX",
        "outputId": "2cb7e88a-4408-4c55-c8b0-a10b8640197b",
        "colab": {
          "base_uri": "https://localhost:8080/"
        }
      },
      "execution_count": null,
      "outputs": [
        {
          "output_type": "stream",
          "name": "stdout",
          "text": [
            "O tipo da variável x é:  <class 'float'>\n",
            "O tipo da variável y é:  <class 'int'>\n"
          ]
        }
      ]
    },
    {
      "cell_type": "markdown",
      "source": [
        "Isso é trivial, mas é importante dizer. Os inteiros podem ser usados com operadores aritméticos comuns, como adição (+), subtração (-), multiplicação (*) e divisão (/)."
      ],
      "metadata": {
        "id": "bVL0uYvvbwUR"
      }
    },
    {
      "cell_type": "code",
      "execution_count": null,
      "metadata": {
        "id": "9Rsmb9bHdlNo",
        "colab": {
          "base_uri": "https://localhost:8080/"
        },
        "outputId": "6160561c-ef09-4dba-8db0-56dd739aae48"
      },
      "outputs": [
        {
          "output_type": "stream",
          "name": "stdout",
          "text": [
            "O valor de c é: 7\n",
            "O valor de d é: 3\n",
            "O valor de e é: 10\n",
            "O valor de f é: 2.5\n"
          ]
        }
      ],
      "source": [
        "a = 5\n",
        "b = 2\n",
        "c = a + b\n",
        "print(\"O valor de c é:\", c)\n",
        "d = a - b\n",
        "print(\"O valor de d é:\", d)\n",
        "e = a * b\n",
        "print(\"O valor de e é:\", e)\n",
        "f = a / b\n",
        "print(\"O valor de f é:\", f)"
      ]
    },
    {
      "cell_type": "markdown",
      "source": [
        "É importante notar que em Python 3, a divisão de inteiros retorna um número de ponto flutuante (float, que estudaremos logo na sequência), se você quiser arredondar para baixo, deve-se usar a divisão inteira com dupla barra (//)"
      ],
      "metadata": {
        "id": "m1LkAk-_aV9V"
      }
    },
    {
      "cell_type": "code",
      "source": [
        "a = 5\n",
        "b = 2\n",
        "f = a / b\n",
        "print(\"O valor de f é:\", f)\n",
        "print(\"O tipo de f é:\", type(f))\n",
        "g = a // b\n",
        "print(\"O valor de g é:\", g)\n",
        "print(\"O tipo de g é:\", type(g))"
      ],
      "metadata": {
        "id": "rcZ1xroMaUqE",
        "colab": {
          "base_uri": "https://localhost:8080/"
        },
        "outputId": "a697f611-8607-47e2-a149-b858b6cffc57"
      },
      "execution_count": null,
      "outputs": [
        {
          "output_type": "stream",
          "name": "stdout",
          "text": [
            "O valor de f é: 2.5\n",
            "O tipo de f é: <class 'float'>\n",
            "O valor de g é: 2\n",
            "O tipo de g é: <class 'int'>\n"
          ]
        }
      ]
    },
    {
      "cell_type": "markdown",
      "source": [
        "Também é possível usar operadores de exponenciação (**) e resto da divisão inteira (módulo) utilizando o símbolo de porcentagem (%)"
      ],
      "metadata": {
        "id": "aVSJG9yRaram"
      }
    },
    {
      "cell_type": "code",
      "source": [
        "a = 5\n",
        "b = 2\n",
        "h = a ** b\n",
        "print(\"O valor de h é:\", h)\n",
        "i = a % b\n",
        "print(f\"O resto da divisão de {a} por {b} é:\", i)"
      ],
      "metadata": {
        "id": "9HywbRbhduN4",
        "colab": {
          "base_uri": "https://localhost:8080/"
        },
        "outputId": "520fba71-327a-4612-c0d4-c94039e98945"
      },
      "execution_count": null,
      "outputs": [
        {
          "output_type": "stream",
          "name": "stdout",
          "text": [
            "O valor de h é: 25\n",
            "O resto da divisão de 5 por 2 é: 1\n"
          ]
        }
      ]
    },
    {
      "cell_type": "markdown",
      "source": [
        "### Número de ponto flutuante"
      ],
      "metadata": {
        "id": "iVuITcF2bPXa"
      }
    },
    {
      "cell_type": "markdown",
      "source": [
        "Os números de ponto flutuante (float) em Python são usados para armazenar números com decimais. Eles podem ser criados usando valores numéricos com decimais ou usando a notação de ponto flutuante com um \"e\" ou \"E\" seguido de um expoente.\n",
        "Exemplo:"
      ],
      "metadata": {
        "id": "8pIgyj9_bV4W"
      }
    },
    {
      "cell_type": "code",
      "source": [
        "a = 3.14\n",
        "b = -1.5\n",
        "c = 1e-3\n",
        "d = 2E3\n",
        "\n",
        "print(\"O tipo da variável a é: \", type(a))\n",
        "print(\"O tipo da variável b é: \", type(b))\n",
        "print(\"O tipo da variável c é: \", type(c))\n",
        "print(\"O valor da variável c é \", c)\n",
        "print(\"O valor da variável d é \", d)"
      ],
      "metadata": {
        "id": "hhJ1JQSsduLE",
        "colab": {
          "base_uri": "https://localhost:8080/"
        },
        "outputId": "a151319b-f897-4f9d-ae45-8f36e6971274"
      },
      "execution_count": null,
      "outputs": [
        {
          "output_type": "stream",
          "name": "stdout",
          "text": [
            "O tipo da variável a é:  <class 'float'>\n",
            "O tipo da variável b é:  <class 'float'>\n",
            "O tipo da variável c é:  <class 'float'>\n",
            "O valor da variável c é  0.001\n",
            "O valor da variável d é  2000.0\n"
          ]
        }
      ]
    },
    {
      "cell_type": "code",
      "source": [
        "# Operações com float\n",
        "\n",
        "a = 5.3\n",
        "b = 2.4\n",
        "c = a + b\n",
        "d = a - b\n",
        "e = a * b\n",
        "f = a / b\n",
        "g = a ** b\n",
        "print(\"O valor de c é:\", c)\n",
        "print(\"O valor de d é:\", d)\n",
        "print(\"O valor de e é:\", e)\n",
        "print(\"O valor de f é:\", f)\n",
        "print(\"O valor de g é:\", g)"
      ],
      "metadata": {
        "id": "juzw4TI2dt-j",
        "colab": {
          "base_uri": "https://localhost:8080/"
        },
        "outputId": "50bd889f-6380-4ba6-a889-197a976b5f1c"
      },
      "execution_count": null,
      "outputs": [
        {
          "output_type": "stream",
          "name": "stdout",
          "text": [
            "O valor de c é: 7.699999999999999\n",
            "O valor de d é: 2.9\n",
            "O valor de e é: 12.719999999999999\n",
            "O valor de f é: 2.2083333333333335\n",
            "O valor de g é: 54.734617446536824\n"
          ]
        }
      ]
    },
    {
      "cell_type": "markdown",
      "source": [
        "É importante notar que, devido à natureza dos números de ponto flutuante, pode haver imprecisões na representação de números muito pequenos ou muito grandes. Além disso, a precisão dos cálculos com números de ponto flutuante pode ser afetada por problemas de arredondamento."
      ],
      "metadata": {
        "id": "5VZLCHtdhrrY"
      }
    },
    {
      "cell_type": "code",
      "source": [
        "# Exercício: dada a equação do segundo grau 2x² - 10x + 12 = 0 (ax² + bx + c = 0),\n",
        "# calcule, utilizando a fórmula de resolução da equação do segundo grau,\n",
        "# quais são as duas raízes x_1 e x_2?\n",
        "#----------------------------------------------------\n",
        "# Espaço para calcular\n",
        "\n",
        "x_1 =\n",
        "\n",
        "x_2 =\n",
        "\n",
        "#----------------------------------------------------\n",
        "print(f\"O valor das raízes são: {x_1} e {x_2}\")"
      ],
      "metadata": {
        "id": "3h64Z6zhxjUt"
      },
      "execution_count": null,
      "outputs": []
    },
    {
      "cell_type": "markdown",
      "source": [
        "### String"
      ],
      "metadata": {
        "id": "du8EkbC6uoWJ"
      }
    },
    {
      "cell_type": "markdown",
      "source": [
        "As strings em Python são usadas para armazenar e manipular texto. Elas podem ser criadas usando aspas simples ou duplas.\n",
        "Exemplo:\n"
      ],
      "metadata": {
        "id": "lkAXk8Q5wD1b"
      }
    },
    {
      "cell_type": "code",
      "source": [
        "a = \"Hello World!\"\n",
        "b = 'Python is cool!'\n",
        "print(type(a),type(b))"
      ],
      "metadata": {
        "id": "_at5_xR9wC7I",
        "colab": {
          "base_uri": "https://localhost:8080/"
        },
        "outputId": "72e805c8-f316-4a32-c75c-98e8983f4649"
      },
      "execution_count": null,
      "outputs": [
        {
          "output_type": "stream",
          "name": "stdout",
          "text": [
            "<class 'str'> <class 'str'>\n"
          ]
        }
      ]
    },
    {
      "cell_type": "markdown",
      "source": [
        "Você também pode usar o operador de soma (+) para concatenar strings e o operador de multiplicação (*) para repetir uma string várias vezes.\n",
        "Exemplo:\n"
      ],
      "metadata": {
        "id": "7sYRniZewa-h"
      }
    },
    {
      "cell_type": "code",
      "source": [
        "a = \"Hello\" + \" \" + \"World!\"\n",
        "b = \"-\" * 10\n",
        "\n",
        "print(a)\n",
        "print(b)"
      ],
      "metadata": {
        "id": "IT1LHWDlukDk",
        "colab": {
          "base_uri": "https://localhost:8080/"
        },
        "outputId": "d3c49c09-c425-4c02-f20e-78661640de73"
      },
      "execution_count": null,
      "outputs": [
        {
          "output_type": "stream",
          "name": "stdout",
          "text": [
            "Hello World!\n",
            "----------\n"
          ]
        }
      ]
    },
    {
      "cell_type": "markdown",
      "source": [
        "As strings em Python também são objetos, com seus próprios métodos e propriedades. Alguns métodos úteis incluem:\n",
        "\n",
        "- len(string): retorna o comprimento da string.\n",
        "- string.lower(): converte todos os caracteres da string para minúsculas.\n",
        "- string.upper(): converte todos os caracteres da string para maiúsculas.\n",
        "- string.strip(): remove espaços em branco no início e no final da string.\n",
        "- string.replace(old, new): substitui todas as ocorrências de \"old\" por \"new\" na string.\n",
        "- string.split(separator): divide a string em uma lista usando o separador especificado.\n",
        "- string.startswith(palavra): Verifica se a string começa com \"palavra\"\n"
      ],
      "metadata": {
        "id": "TPdQAZzo1oob"
      }
    },
    {
      "cell_type": "code",
      "source": [
        "# comprimento da string\n",
        "print(\"O comprimento da string 'Esse é o melhor curso da história!' é: \" )\n",
        "print(len(\"Esse é o melhor curso da história!\"))\n",
        "\n",
        "# Minúscula\n",
        "print(str.lower(\"ToDaS As LeTrAs Em MiNúScUlA\"))\n",
        "\n",
        "# Maiúscula\n",
        "print(\"ToDaS As LeTrAs Em MaIúScUlA\".upper())\n",
        "\n",
        "# Remove espaços no começo e fim\n",
        "print(\"\\n\")\n",
        "print(\".\" + \"    Retirando espaços   \" + \".\")\n",
        "print(\".\" + \"    Retirando espaços   \".strip() + \".\")\n",
        "\n",
        "# Faz a substituição\n",
        "print(\"\\n\")\n",
        "print(\"Banana é a melhor fruta do mundo!\")\n",
        "print(\"Banana é a melhor fruta do mundo!\".replace(\"Banana\", \"Melancia\"))\n",
        "\n",
        "# Faz split pelo espaço\n",
        "print(\"\\n\")\n",
        "print(\"Separando pelo caractere espaço\".split(\" \"))\n",
        "\n",
        "# Verifica se a string começa com a palavra moda\n",
        "print(\"\\n\")\n",
        "print(\"maximo_valor_pagamento_cliente_2_anos\".startswith(\"moda\"))\n",
        "print(\"moda_tipo_pagamento_cliente_2_anos\".startswith(\"moda\"))"
      ],
      "metadata": {
        "id": "povUUspXukAv",
        "colab": {
          "base_uri": "https://localhost:8080/"
        },
        "outputId": "ec5cb358-ba81-471b-be80-bcbe14b6d93b"
      },
      "execution_count": null,
      "outputs": [
        {
          "output_type": "stream",
          "name": "stdout",
          "text": [
            "O comprimento da string 'Esse é o melhor curso da história!' é: \n",
            "34\n",
            "todas as letras em minúscula\n",
            "TODAS AS LETRAS EM MAIÚSCULA\n",
            "\n",
            "\n",
            ".    Retirando espaços   .\n",
            ".Retirando espaços.\n",
            "\n",
            "\n",
            "Banana é a melhor fruta do mundo!\n",
            "Melancia é a melhor fruta do mundo!\n",
            "\n",
            "\n",
            "['Separando', 'pelo', 'caractere', 'espaço']\n",
            "\n",
            "\n",
            "False\n",
            "True\n"
          ]
        }
      ]
    },
    {
      "cell_type": "markdown",
      "source": [
        "Você sabia? você pode acessar os caracteres individuais de uma string usando colchetes e índices, começando a contar a partir de 0."
      ],
      "metadata": {
        "id": "j60HDl10MZn_"
      }
    },
    {
      "cell_type": "code",
      "source": [
        "variavel = \"Esse é o melhor curso sobre IA do mundo!\"\n",
        "print(variavel[0])\n",
        "print(variavel[9:15])\n",
        "print(variavel[-1])"
      ],
      "metadata": {
        "id": "LAlz54mIuj40",
        "colab": {
          "base_uri": "https://localhost:8080/"
        },
        "outputId": "e9574856-f759-4e2e-ce83-bc43ba832972"
      },
      "execution_count": null,
      "outputs": [
        {
          "output_type": "stream",
          "name": "stdout",
          "text": [
            "E\n",
            "melhor\n",
            "!\n"
          ]
        }
      ]
    },
    {
      "cell_type": "code",
      "source": [
        "variavel[3]"
      ],
      "metadata": {
        "colab": {
          "base_uri": "https://localhost:8080/",
          "height": 35
        },
        "id": "fVPUCYbcFpkk",
        "outputId": "1a633816-d8bd-47a5-f562-cb18c69ea825"
      },
      "execution_count": null,
      "outputs": [
        {
          "output_type": "execute_result",
          "data": {
            "text/plain": [
              "'e'"
            ],
            "application/vnd.google.colaboratory.intrinsic+json": {
              "type": "string"
            }
          },
          "metadata": {},
          "execution_count": 16
        }
      ]
    },
    {
      "cell_type": "markdown",
      "source": [
        "## Listas"
      ],
      "metadata": {
        "id": "YX2Kpyd2Oe6L"
      }
    },
    {
      "cell_type": "markdown",
      "source": [
        "As listas em Python são usadas para armazenar uma coleção de itens. Elas podem conter itens de diferentes tipos, incluindo inteiros, números de ponto flutuante, strings e até mesmo outras listas. As listas são criadas usando colchetes [] e os itens são separados por vírgulas. É importante notar que as listas em Python são mutáveis, ou seja, os itens podem ser adicionados, removidos ou alterados depois de serem criados. Além disso, as listas suportam indexação e fatiamento, permitindo acessar e manipular facilmente os itens dentro dela.\n",
        "Exemplos:\n"
      ],
      "metadata": {
        "id": "pCfuwV-0P1_D"
      }
    },
    {
      "cell_type": "code",
      "source": [
        "lista_1 = [1, 2, 3, 4]\n",
        "lista_2 = ['hello', 'world']\n",
        "lista_3 = [1, 2.5, 'python', [4, 5]]\n",
        "\n",
        "print(\"\\nComprimento da lista_1 é:\")\n",
        "print(len(lista_1))\n",
        "\n",
        "print(\"\\nO primeiro elemento da lista_2 é:\")\n",
        "print(lista_2[0])\n",
        "\n",
        "print(\"\\nO terceiro elemento da lista_3 é:\")\n",
        "print(lista_3[2])\n",
        "\n",
        "print(\"\\nDado o terceiro elemento da lista_3, exibe os caracteres de 0 até 3:\")\n",
        "print(lista_3[2][0:4])\n",
        "\n",
        "print(\"\\nDado o quarto elemento da lista_3, exibe o segundo elemento\")\n",
        "print(lista_3[3][1])"
      ],
      "metadata": {
        "id": "dbWEPf_8NzG5",
        "colab": {
          "base_uri": "https://localhost:8080/"
        },
        "outputId": "d3422e5e-2b41-4641-866b-19ad1b26fba7"
      },
      "execution_count": null,
      "outputs": [
        {
          "output_type": "stream",
          "name": "stdout",
          "text": [
            "\n",
            "Comprimento da lista_1 é:\n",
            "4\n",
            "\n",
            "O primeiro elemento da lista_2 é:\n",
            "hello\n",
            "\n",
            "O terceiro elemento da lista_3 é:\n",
            "python\n",
            "\n",
            "Dado o terceiro elemento da lista_3, exibe os caracteres de 0 até 3:\n",
            "pyth\n",
            "\n",
            "Dado o quarto elemento da lista_3, exibe o segundo elemento\n",
            "5\n"
          ]
        }
      ]
    },
    {
      "cell_type": "markdown",
      "source": [
        "É extremamente importante ressaltar que python começa sua indexação por 0. Isso eventualmente pode causar confusões e erros. Sempre verifique se está utilizando a ordem correta na indexação."
      ],
      "metadata": {
        "id": "u5x--J2XSqzD"
      }
    },
    {
      "cell_type": "markdown",
      "source": [
        "Vamos aos métodos:\n",
        "- list.append(item): adiciona um item ao final da lista.\n",
        "- list.extend(iterable): adiciona os itens de um iterável (como uma - lista) à lista.\n",
        "- list.insert(index, item): insere um item na posição de índice - especificada.\n",
        "- list.remove(item): remove o primeiro item da lista com o valor especificado.\n",
        "- list.pop(index): remove e retorna o item na posição de índice especificada.\n",
        "- list.index(item): retorna o índice da primeira ocorrência do item especificado na lista.\n",
        "- list.count(item): retorna o número de vezes que o item especificado aparece na lista.\n",
        "- list.reverse(): inverte a ordem dos itens na lista.\n",
        "- list.sort(): classifica a lista em ordem crescente.\n"
      ],
      "metadata": {
        "id": "A8dLhGYlTq7y"
      }
    },
    {
      "cell_type": "code",
      "source": [
        "frutas = [\n",
        "    \"laranja\",\n",
        "    \"banana\",\n",
        "    \"pera\"\n",
        "]\n",
        "print(frutas)\n",
        "frutas.append(\"uva\")\n",
        "print(frutas)\n",
        "\n",
        "frutas_2 = [\n",
        "    \"melancia\",\n",
        "    \"morango\"\n",
        "]\n",
        "frutas.extend(frutas_2)\n",
        "print(frutas)\n",
        "\n",
        "frutas.insert(0, \"abacaxi\")\n",
        "print(frutas)\n",
        "\n",
        "frutas.insert(3, \"abacaxi\")\n",
        "print(frutas)\n",
        "\n",
        "# Remove o primeiro abacaxi da lista\n",
        "frutas.remove(\"abacaxi\")\n",
        "print(frutas)\n",
        "\n",
        "# Remove a banana da lista e a retorna\n",
        "print(frutas.pop(1))\n",
        "print(frutas)\n",
        "\n",
        "frutas.append(\"uva\")\n",
        "print(frutas)\n",
        "print(frutas.index(\"uva\"))\n",
        "\n",
        "# retorna o número de vezes que uva aparece na lista.\n",
        "print(frutas.count(\"uva\"))\n",
        "\n",
        "# Inverte a ordem dos itens na lista\n",
        "print(frutas)\n",
        "frutas.reverse()\n",
        "print(frutas)\n",
        "\n",
        "# classifica a lista em ordem crescente.\n",
        "print(frutas)\n",
        "frutas.sort()\n",
        "print(frutas)"
      ],
      "metadata": {
        "id": "q4blhmosNzb1",
        "colab": {
          "base_uri": "https://localhost:8080/"
        },
        "outputId": "3bba1168-ef53-4062-c0bd-52170637695d"
      },
      "execution_count": null,
      "outputs": [
        {
          "output_type": "stream",
          "name": "stdout",
          "text": [
            "['laranja', 'banana', 'pera']\n",
            "['laranja', 'banana', 'pera', 'uva']\n",
            "['laranja', 'banana', 'pera', 'uva', 'melancia', 'morango']\n",
            "['abacaxi', 'laranja', 'banana', 'pera', 'uva', 'melancia', 'morango']\n",
            "['abacaxi', 'laranja', 'banana', 'abacaxi', 'pera', 'uva', 'melancia', 'morango']\n",
            "['laranja', 'banana', 'abacaxi', 'pera', 'uva', 'melancia', 'morango']\n",
            "banana\n",
            "['laranja', 'abacaxi', 'pera', 'uva', 'melancia', 'morango']\n",
            "['laranja', 'abacaxi', 'pera', 'uva', 'melancia', 'morango', 'uva']\n",
            "3\n",
            "2\n",
            "['laranja', 'abacaxi', 'pera', 'uva', 'melancia', 'morango', 'uva']\n",
            "['uva', 'morango', 'melancia', 'uva', 'pera', 'abacaxi', 'laranja']\n",
            "['uva', 'morango', 'melancia', 'uva', 'pera', 'abacaxi', 'laranja']\n",
            "['abacaxi', 'laranja', 'melancia', 'morango', 'pera', 'uva', 'uva']\n"
          ]
        }
      ]
    },
    {
      "cell_type": "markdown",
      "source": [
        "Digitando list. e apertando ctrl + barra de espaço, você consegue ver esses e outros atributos de listas. Na sequência, teremos alguns exercícios e possivelmente você terá que pesquisar outros atributos.\n",
        "\n",
        "Em todos os exercícios do curso, você pode, a seu critério, desde que cumpra os requisitos do enunciado, utilizar comandos, funções e qualquer outra ferramenta que julgar necessário para resolver os exercícios, mesmo que não apresentados aqui."
      ],
      "metadata": {
        "id": "UjIw1l6WeEI8"
      }
    },
    {
      "cell_type": "markdown",
      "source": [
        "### A - Exercícios sobre lista"
      ],
      "metadata": {
        "id": "5E201g11fsb3"
      }
    },
    {
      "cell_type": "markdown",
      "source": [
        "1. Crie uma lista com 7 números inteiros e imprima o maior e o menor número na lista.\n",
        "\n"
      ],
      "metadata": {
        "id": "zFB9i509kdTW"
      }
    },
    {
      "cell_type": "code",
      "source": [
        "#----------------------------------------------------\n",
        "# Espaço solução\n",
        "\n",
        "\n",
        "\n",
        "\n",
        "#----------------------------------------------------"
      ],
      "metadata": {
        "id": "jWFuActjTqk2"
      },
      "execution_count": null,
      "outputs": []
    },
    {
      "cell_type": "markdown",
      "source": [
        "2. Crie uma lista de strings e junte-as em uma única string separada por espaços utilizando str.join."
      ],
      "metadata": {
        "id": "Lz5dhE3ykmAw"
      }
    },
    {
      "cell_type": "code",
      "source": [
        "#----------------------------------------------------\n",
        "# Espaço solução\n",
        "\n",
        "\n",
        "\n",
        "\n",
        "#----------------------------------------------------"
      ],
      "metadata": {
        "id": "zU4q9twDfxMh"
      },
      "execution_count": null,
      "outputs": []
    },
    {
      "cell_type": "markdown",
      "source": [
        "3. Crie uma lista com os primeiros 10 inteiros estritamente positivos e remova todos os números pares. Imprima o resultado final."
      ],
      "metadata": {
        "id": "frR3Th7qkw-_"
      }
    },
    {
      "cell_type": "code",
      "source": [
        "#----------------------------------------------------\n",
        "# Espaço solução\n",
        "\n",
        "\n",
        "\n",
        "\n",
        "\n",
        "#----------------------------------------------------"
      ],
      "metadata": {
        "id": "D7_eaZN2fxJw"
      },
      "execution_count": null,
      "outputs": []
    },
    {
      "cell_type": "markdown",
      "source": [
        "4. Crie uma lista com 20 primeiros números inteiros estritamente positivos e imprima todos os números em ordem inversa utilizando o comando reverse"
      ],
      "metadata": {
        "id": "sLw4NBV1k_Ws"
      }
    },
    {
      "cell_type": "code",
      "source": [
        "#----------------------------------------------------\n",
        "# Espaço solução\n",
        "\n",
        "\n",
        "\n",
        "\n",
        "#----------------------------------------------------"
      ],
      "metadata": {
        "id": "4Z_oSHf4gqJn"
      },
      "execution_count": null,
      "outputs": []
    },
    {
      "cell_type": "markdown",
      "source": [
        "5. Crie uma lista de 5 strings e verifique se uma determinada string está na lista."
      ],
      "metadata": {
        "id": "Bv_PyA21lF8B"
      }
    },
    {
      "cell_type": "code",
      "source": [
        "#----------------------------------------------------\n",
        "# Espaço solução\n",
        "\n",
        "\n",
        "\n",
        "\n",
        "\n",
        "#----------------------------------------------------"
      ],
      "metadata": {
        "id": "18g45VSvgqEu"
      },
      "execution_count": null,
      "outputs": []
    },
    {
      "cell_type": "markdown",
      "source": [
        "### B - Exercícios sobre listas (Nível médio de dificuldade)"
      ],
      "metadata": {
        "id": "mCZRTqocnKTv"
      }
    },
    {
      "cell_type": "markdown",
      "source": [
        "1. Dado a seguinte lista de números inteiros, remova todos os números duplicados e imprima a lista sem duplicatas. (Observação: Você não deve retirar apenas olhando para os números)"
      ],
      "metadata": {
        "id": "ejeD4218jvUa"
      }
    },
    {
      "cell_type": "code",
      "source": [
        "# numeros = [1, 2, 3, 2, 1, 4, 5, 5, 10, 3, 1, 3, 6, 2, 11, 2, 5, 7, 2, 6, 9, 2, 1, 11, 18]\n",
        "\n",
        "#----------------------------------------------------\n",
        "# Espaço solução\n",
        "\n",
        "\n",
        "\n",
        "\n",
        "\n",
        "#----------------------------------------------------"
      ],
      "metadata": {
        "id": "6-w-8ctOgqAL"
      },
      "execution_count": null,
      "outputs": []
    },
    {
      "cell_type": "markdown",
      "source": [
        "2.  Dada a lista de variáveis categóricas e a lista de variáveis finalistas abaixo encontre todas as variáveis categóricas que estão na lista de variáveis finalistas e imprima o resultado."
      ],
      "metadata": {
        "id": "fW1w4VgYlSRu"
      }
    },
    {
      "cell_type": "code",
      "source": [
        "#----------------------------------------------------\n",
        "# Espaço solução\n",
        "\n",
        "vars_categoricas = [\n",
        "    \"sexo\",\n",
        "    \"uf\",\n",
        "    \"cidade\",\n",
        "    \"regiao\",\n",
        "    \"codigo_filial\",\n",
        "    \"moda_tipo_pagamento_3_meses\",\n",
        "    \"moda_tipo_pagamento_6_meses\",\n",
        "    \"moda_tipo_pagamento_9_meses\",\n",
        "    \"moda_tipo_pagamento_1_ano\",\n",
        "    \"moda_tipo_pagamento_2_anos\",\n",
        "    \"moda_tipo_estabelecimento_3_meses\",\n",
        "    \"moda_tipo_estabelecimento_6_meses\",\n",
        "    \"moda_tipo_estabelecimento_9_meses\",\n",
        "    \"moda_tipo_estabelecimento_1_ano\",\n",
        "    \"moda_tipo_estabelecimento_2_anos\",\n",
        "    \"moda_tipo_venda_aprovadas_3_meses\",\n",
        "    \"moda_tipo_venda_aprovadas_6_meses\",\n",
        "    \"moda_tipo_venda_aprovadas_9_meses\",\n",
        "    \"moda_tipo_venda_aprovadas_1_ano\",\n",
        "    \"moda_tipo_venda_aprovadas_2_anos\",\n",
        "    \"moda_status_aprovadas_3_meses\",\n",
        "    \"moda_status_aprovadas_6_meses\",\n",
        "    \"moda_status_aprovadas_9_meses\",\n",
        "    \"moda_status_aprovadas_1_ano\",\n",
        "    \"moda_status_aprovadas_2_anos\",\n",
        "    \"moda_canal_venda_canceladas_3_meses\",\n",
        "    \"moda_canal_venda_canceladas_6_meses\",\n",
        "    \"moda_canal_venda_canceladas_9_meses\",\n",
        "    \"moda_canal_venda_canceladas_1_ano\",\n",
        "    \"moda_canal_venda_canceladas_2_anos\",\n",
        "    \"moda_canal_venda_empresa_x_3_meses\",\n",
        "    \"moda_canal_venda_empresa_x_6_meses\",\n",
        "    \"moda_canal_venda_empresa_x_9_meses\",\n",
        "    \"moda_canal_venda_empresa_x_1_ano\",\n",
        "    \"moda_canal_venda_empresa_x_2_anos\",\n",
        "    \"moda_moda_tipo_compra_aprovadas_3_meses\",\n",
        "    \"moda_moda_tipo_compra_aprovadas_6_meses\",\n",
        "    \"moda_moda_tipo_compra_aprovadas_9_meses\",\n",
        "    \"moda_moda_tipo_compra_aprovadas_1_ano\",\n",
        "    \"moda_moda_tipo_compra_aprovadas_2_anos\",\n",
        "    \"moda_tipo_compra_3_meses\",\n",
        "    \"moda_tipo_compra_6_meses\",\n",
        "    \"moda_tipo_compra_9_meses\",\n",
        "    \"moda_tipo_compra_1_ano\",\n",
        "    \"moda_tipo_compra_2_anos\"\n",
        "]\n",
        "\n",
        "vars_finalistas = [\n",
        "    \"idade\",\n",
        "    \"sexo\",\n",
        "    \"uf\",\n",
        "    \"moda_tipo_pagamento_2_anos\",\n",
        "    \"maximo_valor_fatura_2_anos\",\n",
        "    \"moda_tipo_estabelecimento_3_meses\",\n",
        "    \"moda_tipo_venda_aprovadas_9_meses\",\n",
        "    \"tempo_emprego\",\n",
        "    \"tempo_abertura_conta\",\n",
        "    \"moda_status_aprovadas_3_meses\",\n",
        "    \"moda_canal_venda_canceladas_2_anos\",\n",
        "    \"cidade\",\n",
        "    \"moda_canal_venda_empresa_x_6_meses\",\n",
        "    \"moda_moda_tipo_compra_aprovadas_1_ano\",\n",
        "    \"min_valor_fatura_1_ano\",\n",
        "    \"min_valor_fatura_2_anos\"\n",
        "    \"moda_moda_tipo_compra_aprovadas_2_anos\",\n",
        "    \"maximo_valor_fatura_6_meses\",\n",
        "    \"desvio_padrao_3_meses\",\n",
        "    \"moda_tipo_compra_1_ano\",\n",
        "    \"bata_pagamento_fatura_1_ano\",\n",
        "    \"moda_tipo_compra_2_anos\"\n",
        "]\n",
        "\n",
        "\n",
        "#----------------------------------------------------"
      ],
      "metadata": {
        "id": "U8Qpl3Dggp9V"
      },
      "execution_count": null,
      "outputs": []
    },
    {
      "cell_type": "markdown",
      "source": [
        "3. Dado a lista de strings abaixo, remova todas as strings vazias e imprima a nova lista"
      ],
      "metadata": {
        "id": "E8VYqd8VloQx"
      }
    },
    {
      "cell_type": "code",
      "source": [
        "# lista = ['A', '', 'Datarisk', '', 'é', 'a', '', 'melhor', 'empresa', 'do', '', 'mundo', '', '']\n",
        "#----------------------------------------------------\n",
        "# Espaço solução\n",
        "\n",
        "\n",
        "\n",
        "\n",
        "#----------------------------------------------------"
      ],
      "metadata": {
        "id": "IGZyA7BZlmrg"
      },
      "execution_count": null,
      "outputs": []
    },
    {
      "cell_type": "markdown",
      "source": [
        "4. Dado uma lista de números inteiros, imprima uma lista de listas de tamanho 2 onde o primeiro elemento é o número da lista original e o segundo elemento é o seu quadrado"
      ],
      "metadata": {
        "id": "qs9ioQGFlv3k"
      }
    },
    {
      "cell_type": "code",
      "source": [
        "#numeros = [2, 3, 6, 1, 9, 10, 5, 11]\n",
        "\n",
        "#----------------------------------------------------\n",
        "# Espaço solução\n",
        "\n",
        "\n",
        "\n",
        "\n",
        "#----------------------------------------------------"
      ],
      "metadata": {
        "id": "vNNpaRy2dhLM"
      },
      "execution_count": null,
      "outputs": []
    },
    {
      "cell_type": "markdown",
      "source": [
        "5. Dada a lista de listas de números resultante do exercício anterior, retorne o valor com a soma de todos os números de todas as listas\n"
      ],
      "metadata": {
        "id": "do8w4gbll5Ji"
      }
    },
    {
      "cell_type": "code",
      "source": [
        "# lista = [[2, 4], [3, 9], [6, 36], [1, 1], [9, 81], [10, 100], [5, 25], [11, 121]]\n",
        "#----------------------------------------------------\n",
        "# Espaço solução\n",
        "\n",
        "\n",
        "\n",
        "\n",
        "\n",
        "#----------------------------------------------------"
      ],
      "metadata": {
        "id": "8Yxth2iIdhIc"
      },
      "execution_count": null,
      "outputs": []
    },
    {
      "cell_type": "markdown",
      "source": [
        "## Dicionários"
      ],
      "metadata": {
        "id": "lKtbI-Rvy3at"
      }
    },
    {
      "cell_type": "markdown",
      "source": [
        "Os dicionários em Python são estruturas de dados usadas para armazenar pares chave-valor. Os dicionários são criados usando chaves {} e os pares chave-valor são separados por vírgulas.\n",
        "Exemplo:\n"
      ],
      "metadata": {
        "id": "ZqUeygbF0PJV"
      }
    },
    {
      "cell_type": "code",
      "source": [
        "dict_1 = {'nome': 'Emanuel', 'idade': 26, 'id': 38}\n",
        "\n",
        "dict_2 = {1: 'um', 2: 'dois', 3: 'três'}\n",
        "\n",
        "dict_3 = {'um': 1, 'dois': 2, 'três': 3}\n",
        "\n",
        "type(dict_3)"
      ],
      "metadata": {
        "id": "TjM2E7nK0XuC",
        "colab": {
          "base_uri": "https://localhost:8080/"
        },
        "outputId": "3205d13d-f18a-4d93-cb87-fc1639ea6092"
      },
      "execution_count": null,
      "outputs": [
        {
          "output_type": "execute_result",
          "data": {
            "text/plain": [
              "dict"
            ]
          },
          "metadata": {},
          "execution_count": 18
        }
      ]
    },
    {
      "cell_type": "markdown",
      "source": [
        "Os dicionários em Python são objetos, e eles têm suas próprias propriedades e métodos:\n",
        "\n",
        "- len(dict): retorna o número de pares chave-valor no dicionário.\n",
        "- dict.keys(): retorna uma lista com as chaves do dicionário.\n",
        "- dict.values(): retorna uma lista com os valores do dicionário.\n",
        "- dict.get(key): retorna o valor associado à chave especificada, ou None se a chave não estiver no dicionário.\n",
        "- dict.pop(key): remove e retorna o valor associado à chave especificada, ou retorna None se a chave não estiver no dicionário.\n",
        "- dict.update(other_dict): adiciona ou atualiza os pares chave-valor de outro dicionário ao dicionário atual.\n",
        "- dict.items(): retorna uma lista de tuplas, onde cada tupla contém uma chave e o seu respectivo valor.\n"
      ],
      "metadata": {
        "id": "KnMU5Lqh1DEb"
      }
    },
    {
      "cell_type": "code",
      "source": [
        "dict_1 = {\"A\": \"Amora\", \"M\": \"Maça\", \"B\": \"Banana\", \"E\": \"Embu\"}\n",
        "\n",
        "dict_2 = {1: 'um', 2: '2', 3: 'três'}\n",
        "\n",
        "dict_3 = {2: 'dois', 3: 'três', 4: 'quatro'}\n",
        "\n",
        "print(\"O comprimento do dicionário 1 é:\", len(dict_1))\n",
        "\n",
        "# Imprime as chaves do dicionário 1\n",
        "print(dict_1.keys())\n",
        "\n",
        "# Imprime os valores do dicionário 1\n",
        "print(dict.values(dict_1))\n",
        "\n",
        "# Verifica se no dicionário 1 possui uma chave \"F\"\n",
        "print(dict_1.get(\"A\"))\n",
        "\n",
        "# Verifica se no dicionário 1 possui uma chave \"A\". No caso, como não possui, retorna None.\n",
        "print(dict_1.get(\"F\"))\n",
        "\n",
        "valor = dict_1.pop(\"A\")\n",
        "print(\"Removemos o \" + valor + \" do primeiro dicionário\")\n",
        "\n",
        "# Verifique que o a chave \"F\" foi removida do dicionário 1\n",
        "print(dict_1.keys())\n",
        "\n",
        "# Exibindo o dicionário 2 e 3\n",
        "print(\"\\nAntes do Update\")\n",
        "print(dict_2)\n",
        "print(dict_3)\n",
        "\n",
        "\n",
        "# Adiciona ou atualiza os pares chave-valor do dicionário 3 ao dicionário atual 2\n",
        "dict_2.update(dict_3)\n",
        "\n",
        "# Exibindo o resultado\n",
        "print(\"\\nApós o Update\")\n",
        "print(dict_2)\n",
        "print(dict_3)\n",
        "print(\"\\n\")\n",
        "\n",
        "# Retorna uma lista de tuplas de chave e valor.\n",
        "print(dict_2.items())"
      ],
      "metadata": {
        "id": "Ye11UkvU15iy",
        "colab": {
          "base_uri": "https://localhost:8080/"
        },
        "outputId": "4127f887-0746-4fad-b77f-8c40b53e7c87"
      },
      "execution_count": null,
      "outputs": [
        {
          "output_type": "stream",
          "name": "stdout",
          "text": [
            "O comprimento do dicionário 1 é: 4\n",
            "dict_keys(['A', 'M', 'B', 'E'])\n",
            "dict_values(['Amora', 'Maça', 'Banana', 'Embu'])\n",
            "Amora\n",
            "None\n",
            "Removemos o Amora do primeiro dicionário\n",
            "dict_keys(['M', 'B', 'E'])\n",
            "\n",
            "Antes do Update\n",
            "{1: 'um', 2: '2', 3: 'três'}\n",
            "{2: 'dois', 3: 'três', 4: 'quatro'}\n",
            "\n",
            "Após o Update\n",
            "{1: 'um', 2: 'dois', 3: 'três', 4: 'quatro'}\n",
            "{2: 'dois', 3: 'três', 4: 'quatro'}\n",
            "\n",
            "\n",
            "dict_items([(1, 'um'), (2, 'dois'), (3, 'três'), (4, 'quatro')])\n"
          ]
        }
      ]
    },
    {
      "cell_type": "markdown",
      "source": [
        "Os dicionários em Python são mutáveis, ou seja, os pares chave-valor podem ser adicionados, removidos ou alterados depois de serem criados. Além disso, os dicionários suportam indexação, permitindo acessar e manipular facilmente os valores associados a suas chaves. Aqui estão alguns exemplos de como os dicionários em Python podem ser usados:"
      ],
      "metadata": {
        "id": "3f5p4sar145n"
      }
    },
    {
      "cell_type": "markdown",
      "source": [
        "1. Um dicionário aninhado é um dicionário que contém outros dicionários como valores. Por exemplo, você pode ter um dicionário de estudantes, onde cada estudante é representado por um dicionário contendo informações como nome, idade e notas."
      ],
      "metadata": {
        "id": "paCJsBHJheGb"
      }
    },
    {
      "cell_type": "code",
      "source": [
        "students = {\n",
        "    'student1': {'name': 'John', 'age': 20, 'grades': [80, 90, 85]},\n",
        "    'student2': {'name': 'Jane', 'age': 22, 'grades': [70, 85, 90]},\n",
        "    'student3': {'name': 'Bob', 'age': 21, 'grades': [95, 80, 75]}\n",
        "}\n",
        "\n",
        "# Adicionando um novo estudante\n",
        "students['student4'] = {'name': 'Chris', 'age': 20, 'grades': [90, 85, 70]}\n",
        "\n",
        "print(students.keys())"
      ],
      "metadata": {
        "id": "0YDQmho9hXtE",
        "colab": {
          "base_uri": "https://localhost:8080/"
        },
        "outputId": "ed763874-0c2b-4888-84cc-6cbd6fc0adde"
      },
      "execution_count": null,
      "outputs": [
        {
          "output_type": "stream",
          "name": "stdout",
          "text": [
            "dict_keys(['student1', 'student2', 'student3', 'student4'])\n"
          ]
        }
      ]
    },
    {
      "cell_type": "markdown",
      "source": [
        "2, Um dicionário de contagem é usado para contar a frequência de elementos em uma lista. Por exemplo, você pode usar um dicionário para contar quantas vezes cada palavra aparece em um texto."
      ],
      "metadata": {
        "id": "fSyXrEVrhsOG"
      }
    },
    {
      "cell_type": "code",
      "source": [
        "text = \"A Datarisk é uma empresa de tecnologia que utiliza as mais modernas ferramentas de Machine Learning para auxiliar empresas a resolver problemas. Utilizando modelos preditivos para análises de dados, somos capazes de trabalhar em diversas verticais para otimizar processos, formatos de negócio e cadeias de valor. Tornamos o processo de decisão dos nossos clientes mais rápido, ágil e simples.\"\n",
        "word_count = {}\n",
        "for word in text.split():\n",
        "    if word in word_count:\n",
        "        word_count[word] += 1\n",
        "    else:\n",
        "        word_count[word] = 1\n",
        "print(word_count)"
      ],
      "metadata": {
        "id": "zN_1bbo3hXqL",
        "colab": {
          "base_uri": "https://localhost:8080/"
        },
        "outputId": "f2b902cc-b4b7-4e91-86c8-43eb71b4f2e9"
      },
      "execution_count": null,
      "outputs": [
        {
          "output_type": "stream",
          "name": "stdout",
          "text": [
            "{'A': 1, 'Datarisk': 1, 'é': 1, 'uma': 1, 'empresa': 1, 'de': 7, 'tecnologia': 1, 'que': 1, 'utiliza': 1, 'as': 1, 'mais': 2, 'modernas': 1, 'ferramentas': 1, 'Machine': 1, 'Learning': 1, 'para': 3, 'auxiliar': 1, 'empresas': 1, 'a': 1, 'resolver': 1, 'problemas.': 1, 'Utilizando': 1, 'modelos': 1, 'preditivos': 1, 'análises': 1, 'dados,': 1, 'somos': 1, 'capazes': 1, 'trabalhar': 1, 'em': 1, 'diversas': 1, 'verticais': 1, 'otimizar': 1, 'processos,': 1, 'formatos': 1, 'negócio': 1, 'e': 2, 'cadeias': 1, 'valor.': 1, 'Tornamos': 1, 'o': 1, 'processo': 1, 'decisão': 1, 'dos': 1, 'nossos': 1, 'clientes': 1, 'rápido,': 1, 'ágil': 1, 'simples.': 1}\n"
          ]
        }
      ]
    },
    {
      "cell_type": "markdown",
      "source": [
        "3. Um dicionário de compreensão é uma forma concisa de criar dicionários. Ele é semelhante a uma lista de compreensão, mas usa {} em vez de []. Ele é útil quando você precisa criar um dicionário com base em uma lista de dados."
      ],
      "metadata": {
        "id": "KJUD40sJjByT"
      }
    },
    {
      "cell_type": "code",
      "source": [
        "numbers = [1, 2, 3, 4, 5]\n",
        "squared_numbers = {x: x**2 for x in numbers}\n",
        "print(squared_numbers)"
      ],
      "metadata": {
        "id": "J_gYeM9yhXnC",
        "colab": {
          "base_uri": "https://localhost:8080/"
        },
        "outputId": "65701b03-1214-4f32-b167-9c93f0acc8c3"
      },
      "execution_count": null,
      "outputs": [
        {
          "output_type": "stream",
          "name": "stdout",
          "text": [
            "{1: 1, 2: 4, 3: 9, 4: 16, 5: 25}\n"
          ]
        }
      ]
    },
    {
      "cell_type": "markdown",
      "source": [
        "4. Um dicionário de desempacotamento é uma técnica para desempacotar valores de um dicionário e atribuí-los a variáveis. Ele é usado para acessar rapidamente as chaves e valores de um dicionário sem precisar acessá-los individualmente."
      ],
      "metadata": {
        "id": "b9-6Y3mtj2I1"
      }
    },
    {
      "cell_type": "code",
      "source": [
        "person = {'name': 'John', 'age': 30, 'city': 'New York', 'country':'USA', 'status': 'single'}\n",
        "\n",
        "# Desempacotando usando variáveis\n",
        "name, age, city, country, status = person.values()\n",
        "print(name, age, city)"
      ],
      "metadata": {
        "id": "KyD29474hXkK",
        "colab": {
          "base_uri": "https://localhost:8080/"
        },
        "outputId": "443592ab-fb34-45f4-eb41-66714297a447"
      },
      "execution_count": null,
      "outputs": [
        {
          "output_type": "stream",
          "name": "stdout",
          "text": [
            "John 30 New York\n"
          ]
        }
      ]
    },
    {
      "cell_type": "markdown",
      "source": [
        "Caso queira desempacotar apenas algumas variáveis, você pode usar a expressão estrelada (starred expression) da seguinte forma:"
      ],
      "metadata": {
        "id": "4Wdk5-NOky8K"
      }
    },
    {
      "cell_type": "code",
      "source": [
        "# Desempacotando usando *\n",
        "name, age, city, *others = person.values()\n",
        "print(name, age, city, others)\n",
        "print(others)"
      ],
      "metadata": {
        "id": "qMsI1o2qhXhe",
        "colab": {
          "base_uri": "https://localhost:8080/"
        },
        "outputId": "8204b2f2-1979-4439-bbcc-64b09568a995"
      },
      "execution_count": null,
      "outputs": [
        {
          "output_type": "stream",
          "name": "stdout",
          "text": [
            "John 30 New York ['USA', 'single']\n",
            "['USA', 'single']\n"
          ]
        }
      ]
    },
    {
      "cell_type": "markdown",
      "source": [
        "5. Um dicionário de configuração é usado para armazenar configurações de aplicativos. Ele é útil para separar as configurações do código principal e para permitir que as configurações sejam facilmente modificadas sem precisar modificar o código."
      ],
      "metadata": {
        "id": "F8VSWhN2m999"
      }
    },
    {
      "cell_type": "code",
      "source": [
        "config = {\n",
        "    'app_name': 'MyApp',\n",
        "    'debug': True,\n",
        "    'log_level': 'debug',\n",
        "    'database': {\n",
        "        'host': 'localhost',\n",
        "        'port': 5432,\n",
        "        'user': 'postgres',\n",
        "        'password': '123456'\n",
        "    }\n",
        "}"
      ],
      "metadata": {
        "id": "IUhIZiktnASn"
      },
      "execution_count": null,
      "outputs": []
    },
    {
      "cell_type": "markdown",
      "source": [
        "### Exercícios com dicionários"
      ],
      "metadata": {
        "id": "o-Czls7moJi4"
      }
    },
    {
      "cell_type": "markdown",
      "source": [
        "1. Dado o dicionário de palavras e seus significados, retorne o significado da palavra 'python'."
      ],
      "metadata": {
        "id": "RFGJQRbxoTNZ"
      }
    },
    {
      "cell_type": "code",
      "source": [
        "# dictionary = {'hello': 'greeting', 'world': 'planet', 'python': 'programming language'}\n",
        "#----------------------------------------------------\n",
        "# Espaço solução\n",
        "\n",
        "\n",
        "\n",
        "\n",
        "#----------------------------------------------------"
      ],
      "metadata": {
        "id": "efkLUi1ChQHm"
      },
      "execution_count": null,
      "outputs": []
    },
    {
      "cell_type": "markdown",
      "source": [
        "2. Dado um dicionário de preços de produtos, retorne o preço total dos itens"
      ],
      "metadata": {
        "id": "QekY8C0ko1fr"
      }
    },
    {
      "cell_type": "code",
      "source": [
        "#prices = {'apple': 0.5, 'banana': 0.25, 'orange': 0.75}\n",
        "#----------------------------------------------------\n",
        "# Espaço solução\n",
        "\n",
        "\n",
        "\n",
        "\n",
        "#----------------------------------------------------"
      ],
      "metadata": {
        "id": "OcKs4r4YnQRr"
      },
      "execution_count": null,
      "outputs": []
    },
    {
      "cell_type": "markdown",
      "source": [
        "3. Dado um dicionário de algoritmos de ML e sua métrica de desempenho AUC, imprima o algoritmo e a métrica que possui o maior valor."
      ],
      "metadata": {
        "id": "ctLUPKtpwrNB"
      }
    },
    {
      "cell_type": "code",
      "source": [
        "# results = {'Logistic Regression': 0.67, 'Decision Tree': 0.66, 'Random Forest': 0.75, 'catboost': 0.81}\n",
        "#----------------------------------------------------\n",
        "# Espaço solução\n",
        "\n",
        "\n",
        "\n",
        "\n",
        "\n",
        "\n",
        "#----------------------------------------------------"
      ],
      "metadata": {
        "id": "IpjSubvoo9oH"
      },
      "execution_count": null,
      "outputs": []
    },
    {
      "cell_type": "markdown",
      "source": [
        "4. Dado o dicionário de notas de alunos, escreva uma função para encontrar os alunos que passaram em todas as disciplinas (obtveram nota maior ou igual a 50 em todas as disciplinas."
      ],
      "metadata": {
        "id": "w6YjZMSWzjue"
      }
    },
    {
      "cell_type": "code",
      "source": [
        "#notas = {\n",
        "#          'Davi': {'matemática': 90, 'física': 80, 'história': 90},\n",
        "#          'Emanuel': {'matemática': 40, 'física': 60, 'história': 60},\n",
        "#          'João': {'matemática': 50, 'física': 10, 'história': 100},\n",
        "#          'Everton': {'matemática': 100, 'física': 60, 'história': 70}\n",
        "#         }\n",
        "\n",
        "#----------------------------------------------------\n",
        "# Espaço solução\n",
        "\n",
        "\n",
        "\n",
        "\n",
        "#----------------------------------------------------"
      ],
      "metadata": {
        "id": "HfQFLAUlo9lE"
      },
      "execution_count": null,
      "outputs": []
    },
    {
      "cell_type": "markdown",
      "source": [
        "Esta é a documentação oficial do Python, que fornece um guia completo sobre a linguagem Python. Ela aborda desde os conceitos básicos de programação até tópicos mais avançados, como programação orientada a objetos e gerenciamento de exceções. A documentação é escrita de forma clara e concisa, e inclui exemplos práticos para ajudar a entender os conceitos apresentados. Além disso, a documentação é atualizada regularmente para garantir que esteja sempre atualizada com as últimas versões do Python.\n",
        "\n",
        "https://docs.python.org/3/tutorial/index.html"
      ],
      "metadata": {
        "id": "H_nZYRZ6-0Rt"
      }
    },
    {
      "cell_type": "code",
      "source": [],
      "metadata": {
        "id": "-3udRzhr_QeA"
      },
      "execution_count": null,
      "outputs": []
    }
  ]
}